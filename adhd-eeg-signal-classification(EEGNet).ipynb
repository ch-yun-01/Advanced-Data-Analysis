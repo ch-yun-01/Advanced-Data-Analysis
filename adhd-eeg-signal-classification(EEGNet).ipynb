{
 "cells": [
  {
   "cell_type": "markdown",
   "metadata": {},
   "source": [
    "# ADHD EEG Signal Classification - EEGNet(without ICA)"
   ]
  },
  {
   "cell_type": "code",
   "execution_count": 1,
   "metadata": {
    "execution": {
     "iopub.execute_input": "2025-06-24T14:20:35.719159Z",
     "iopub.status.busy": "2025-06-24T14:20:35.718851Z",
     "iopub.status.idle": "2025-06-24T14:20:49.515040Z",
     "shell.execute_reply": "2025-06-24T14:20:49.514469Z",
     "shell.execute_reply.started": "2025-06-24T14:20:35.719133Z"
    }
   },
   "outputs": [
    {
     "name": "stdout",
     "output_type": "stream",
     "text": [
      "The history saving thread hit an unexpected error (OperationalError('attempt to write a readonly database')).History will not be written to the database.\n"
     ]
    },
    {
     "name": "stderr",
     "output_type": "stream",
     "text": [
      "2025-06-24 14:20:38.714889: E external/local_xla/xla/stream_executor/cuda/cuda_fft.cc:477] Unable to register cuFFT factory: Attempting to register factory for plugin cuFFT when one has already been registered\n",
      "WARNING: All log messages before absl::InitializeLog() is called are written to STDERR\n",
      "E0000 00:00:1750774838.923518      31 cuda_dnn.cc:8310] Unable to register cuDNN factory: Attempting to register factory for plugin cuDNN when one has already been registered\n",
      "E0000 00:00:1750774838.982372      31 cuda_blas.cc:1418] Unable to register cuBLAS factory: Attempting to register factory for plugin cuBLAS when one has already been registered\n"
     ]
    }
   ],
   "source": [
    "\n",
    "import os\n",
    "import numpy as np\n",
    "import pandas as pd\n",
    "import matplotlib.pyplot as plt\n",
    "import seaborn as sns\n",
    "from scipy.signal import butter, lfilter\n",
    "from sklearn.model_selection import train_test_split\n",
    "from sklearn.preprocessing import StandardScaler, LabelEncoder\n",
    "from sklearn.metrics import accuracy_score, classification_report, confusion_matrix\n",
    "from sklearn.ensemble import RandomForestClassifier\n",
    "import tensorflow as tf\n",
    "from tensorflow.keras.models import Sequential\n",
    "from tensorflow.keras.layers import Conv1D, MaxPooling1D, LSTM, Dense, Dropout, Flatten\n"
   ]
  },
  {
   "cell_type": "code",
   "execution_count": 2,
   "metadata": {
    "execution": {
     "iopub.execute_input": "2025-06-24T14:20:49.516813Z",
     "iopub.status.busy": "2025-06-24T14:20:49.516268Z",
     "iopub.status.idle": "2025-06-24T14:20:56.435993Z",
     "shell.execute_reply": "2025-06-24T14:20:56.435201Z",
     "shell.execute_reply.started": "2025-06-24T14:20:49.516794Z"
    }
   },
   "outputs": [
    {
     "name": "stdout",
     "output_type": "stream",
     "text": [
      "Dataset shape: (2166383, 21)\n",
      "Columns: Index(['Fp1', 'Fp2', 'F3', 'F4', 'C3', 'C4', 'P3', 'P4', 'O1', 'O2', 'F7',\n",
      "       'F8', 'T7', 'T8', 'P7', 'P8', 'Fz', 'Cz', 'Pz', 'Class', 'ID'],\n",
      "      dtype='object')\n"
     ]
    }
   ],
   "source": [
    "\n",
    "# Load dataset\n",
    "df = pd.read_csv(\"adhdata.csv\")\n",
    "print(\"Dataset shape:\", df.shape)\n",
    "print(\"Columns:\", df.columns)\n"
   ]
  },
  {
   "cell_type": "code",
   "execution_count": 3,
   "metadata": {
    "execution": {
     "iopub.execute_input": "2025-06-24T14:20:56.437095Z",
     "iopub.status.busy": "2025-06-24T14:20:56.436817Z",
     "iopub.status.idle": "2025-06-24T14:20:57.423068Z",
     "shell.execute_reply": "2025-06-24T14:20:57.422512Z",
     "shell.execute_reply.started": "2025-06-24T14:20:56.437071Z"
    }
   },
   "outputs": [],
   "source": [
    "\n",
    "# Encode class labels\n",
    "df['Class'] = LabelEncoder().fit_transform(df['Class'])  # ADHD -> 1, Control -> 0\n",
    "X = df.drop(['Class', 'ID'], axis=1).values\n",
    "y = df['Class'].values\n",
    "\n",
    "# Normalize features\n",
    "scaler = StandardScaler()\n",
    "X_scaled = scaler.fit_transform(X)\n"
   ]
  },
  {
   "cell_type": "code",
   "execution_count": 4,
   "metadata": {
    "execution": {
     "iopub.execute_input": "2025-06-24T14:20:57.424797Z",
     "iopub.status.busy": "2025-06-24T14:20:57.424574Z",
     "iopub.status.idle": "2025-06-24T14:20:57.987531Z",
     "shell.execute_reply": "2025-06-24T14:20:57.986887Z",
     "shell.execute_reply.started": "2025-06-24T14:20:57.424780Z"
    }
   },
   "outputs": [
    {
     "data": {
      "text/html": [
       "<div>\n",
       "<style scoped>\n",
       "    .dataframe tbody tr th:only-of-type {\n",
       "        vertical-align: middle;\n",
       "    }\n",
       "\n",
       "    .dataframe tbody tr th {\n",
       "        vertical-align: top;\n",
       "    }\n",
       "\n",
       "    .dataframe thead th {\n",
       "        text-align: right;\n",
       "    }\n",
       "</style>\n",
       "<table border=\"1\" class=\"dataframe\">\n",
       "  <thead>\n",
       "    <tr style=\"text-align: right;\">\n",
       "      <th></th>\n",
       "      <th>Fp1</th>\n",
       "      <th>Fp2</th>\n",
       "      <th>F3</th>\n",
       "      <th>F4</th>\n",
       "      <th>C3</th>\n",
       "      <th>C4</th>\n",
       "      <th>P3</th>\n",
       "      <th>P4</th>\n",
       "      <th>O1</th>\n",
       "      <th>O2</th>\n",
       "      <th>...</th>\n",
       "      <th>F8</th>\n",
       "      <th>T7</th>\n",
       "      <th>T8</th>\n",
       "      <th>P7</th>\n",
       "      <th>P8</th>\n",
       "      <th>Fz</th>\n",
       "      <th>Cz</th>\n",
       "      <th>Pz</th>\n",
       "      <th>Class</th>\n",
       "      <th>ID</th>\n",
       "    </tr>\n",
       "  </thead>\n",
       "  <tbody>\n",
       "    <tr>\n",
       "      <th>0</th>\n",
       "      <td>261.0</td>\n",
       "      <td>402.0</td>\n",
       "      <td>16.0</td>\n",
       "      <td>261.0</td>\n",
       "      <td>126.0</td>\n",
       "      <td>384.0</td>\n",
       "      <td>126.0</td>\n",
       "      <td>236.0</td>\n",
       "      <td>52.0</td>\n",
       "      <td>236.0</td>\n",
       "      <td>...</td>\n",
       "      <td>16.0</td>\n",
       "      <td>200.0</td>\n",
       "      <td>494.0</td>\n",
       "      <td>126.0</td>\n",
       "      <td>236.0</td>\n",
       "      <td>121.0</td>\n",
       "      <td>367.0</td>\n",
       "      <td>121.0</td>\n",
       "      <td>0</td>\n",
       "      <td>v10p</td>\n",
       "    </tr>\n",
       "    <tr>\n",
       "      <th>1</th>\n",
       "      <td>121.0</td>\n",
       "      <td>191.0</td>\n",
       "      <td>-94.0</td>\n",
       "      <td>85.0</td>\n",
       "      <td>16.0</td>\n",
       "      <td>200.0</td>\n",
       "      <td>126.0</td>\n",
       "      <td>52.0</td>\n",
       "      <td>347.0</td>\n",
       "      <td>273.0</td>\n",
       "      <td>...</td>\n",
       "      <td>-57.0</td>\n",
       "      <td>126.0</td>\n",
       "      <td>347.0</td>\n",
       "      <td>52.0</td>\n",
       "      <td>52.0</td>\n",
       "      <td>15.0</td>\n",
       "      <td>121.0</td>\n",
       "      <td>-19.0</td>\n",
       "      <td>0</td>\n",
       "      <td>v10p</td>\n",
       "    </tr>\n",
       "    <tr>\n",
       "      <th>2</th>\n",
       "      <td>-55.0</td>\n",
       "      <td>85.0</td>\n",
       "      <td>-204.0</td>\n",
       "      <td>15.0</td>\n",
       "      <td>-57.0</td>\n",
       "      <td>200.0</td>\n",
       "      <td>52.0</td>\n",
       "      <td>126.0</td>\n",
       "      <td>236.0</td>\n",
       "      <td>200.0</td>\n",
       "      <td>...</td>\n",
       "      <td>-94.0</td>\n",
       "      <td>126.0</td>\n",
       "      <td>420.0</td>\n",
       "      <td>52.0</td>\n",
       "      <td>126.0</td>\n",
       "      <td>-55.0</td>\n",
       "      <td>261.0</td>\n",
       "      <td>85.0</td>\n",
       "      <td>0</td>\n",
       "      <td>v10p</td>\n",
       "    </tr>\n",
       "    <tr>\n",
       "      <th>3</th>\n",
       "      <td>191.0</td>\n",
       "      <td>85.0</td>\n",
       "      <td>52.0</td>\n",
       "      <td>50.0</td>\n",
       "      <td>89.0</td>\n",
       "      <td>236.0</td>\n",
       "      <td>163.0</td>\n",
       "      <td>89.0</td>\n",
       "      <td>89.0</td>\n",
       "      <td>89.0</td>\n",
       "      <td>...</td>\n",
       "      <td>-57.0</td>\n",
       "      <td>236.0</td>\n",
       "      <td>420.0</td>\n",
       "      <td>126.0</td>\n",
       "      <td>126.0</td>\n",
       "      <td>15.0</td>\n",
       "      <td>85.0</td>\n",
       "      <td>-55.0</td>\n",
       "      <td>0</td>\n",
       "      <td>v10p</td>\n",
       "    </tr>\n",
       "    <tr>\n",
       "      <th>4</th>\n",
       "      <td>-55.0</td>\n",
       "      <td>-125.0</td>\n",
       "      <td>-204.0</td>\n",
       "      <td>-160.0</td>\n",
       "      <td>-204.0</td>\n",
       "      <td>16.0</td>\n",
       "      <td>-241.0</td>\n",
       "      <td>-241.0</td>\n",
       "      <td>89.0</td>\n",
       "      <td>16.0</td>\n",
       "      <td>...</td>\n",
       "      <td>-131.0</td>\n",
       "      <td>89.0</td>\n",
       "      <td>310.0</td>\n",
       "      <td>-57.0</td>\n",
       "      <td>52.0</td>\n",
       "      <td>-55.0</td>\n",
       "      <td>15.0</td>\n",
       "      <td>-336.0</td>\n",
       "      <td>0</td>\n",
       "      <td>v10p</td>\n",
       "    </tr>\n",
       "    <tr>\n",
       "      <th>...</th>\n",
       "      <td>...</td>\n",
       "      <td>...</td>\n",
       "      <td>...</td>\n",
       "      <td>...</td>\n",
       "      <td>...</td>\n",
       "      <td>...</td>\n",
       "      <td>...</td>\n",
       "      <td>...</td>\n",
       "      <td>...</td>\n",
       "      <td>...</td>\n",
       "      <td>...</td>\n",
       "      <td>...</td>\n",
       "      <td>...</td>\n",
       "      <td>...</td>\n",
       "      <td>...</td>\n",
       "      <td>...</td>\n",
       "      <td>...</td>\n",
       "      <td>...</td>\n",
       "      <td>...</td>\n",
       "      <td>...</td>\n",
       "      <td>...</td>\n",
       "    </tr>\n",
       "    <tr>\n",
       "      <th>2166378</th>\n",
       "      <td>15.0</td>\n",
       "      <td>50.0</td>\n",
       "      <td>89.0</td>\n",
       "      <td>85.0</td>\n",
       "      <td>16.0</td>\n",
       "      <td>52.0</td>\n",
       "      <td>-20.0</td>\n",
       "      <td>-20.0</td>\n",
       "      <td>89.0</td>\n",
       "      <td>89.0</td>\n",
       "      <td>...</td>\n",
       "      <td>163.0</td>\n",
       "      <td>126.0</td>\n",
       "      <td>163.0</td>\n",
       "      <td>89.0</td>\n",
       "      <td>163.0</td>\n",
       "      <td>50.0</td>\n",
       "      <td>226.0</td>\n",
       "      <td>121.0</td>\n",
       "      <td>1</td>\n",
       "      <td>v310</td>\n",
       "    </tr>\n",
       "    <tr>\n",
       "      <th>2166379</th>\n",
       "      <td>297.0</td>\n",
       "      <td>297.0</td>\n",
       "      <td>347.0</td>\n",
       "      <td>332.0</td>\n",
       "      <td>236.0</td>\n",
       "      <td>347.0</td>\n",
       "      <td>236.0</td>\n",
       "      <td>273.0</td>\n",
       "      <td>273.0</td>\n",
       "      <td>273.0</td>\n",
       "      <td>...</td>\n",
       "      <td>347.0</td>\n",
       "      <td>163.0</td>\n",
       "      <td>347.0</td>\n",
       "      <td>236.0</td>\n",
       "      <td>347.0</td>\n",
       "      <td>332.0</td>\n",
       "      <td>85.0</td>\n",
       "      <td>156.0</td>\n",
       "      <td>1</td>\n",
       "      <td>v310</td>\n",
       "    </tr>\n",
       "    <tr>\n",
       "      <th>2166380</th>\n",
       "      <td>121.0</td>\n",
       "      <td>-19.0</td>\n",
       "      <td>52.0</td>\n",
       "      <td>-19.0</td>\n",
       "      <td>-94.0</td>\n",
       "      <td>-20.0</td>\n",
       "      <td>-20.0</td>\n",
       "      <td>16.0</td>\n",
       "      <td>16.0</td>\n",
       "      <td>16.0</td>\n",
       "      <td>...</td>\n",
       "      <td>52.0</td>\n",
       "      <td>-20.0</td>\n",
       "      <td>-20.0</td>\n",
       "      <td>16.0</td>\n",
       "      <td>16.0</td>\n",
       "      <td>191.0</td>\n",
       "      <td>-195.0</td>\n",
       "      <td>-90.0</td>\n",
       "      <td>1</td>\n",
       "      <td>v310</td>\n",
       "    </tr>\n",
       "    <tr>\n",
       "      <th>2166381</th>\n",
       "      <td>121.0</td>\n",
       "      <td>15.0</td>\n",
       "      <td>200.0</td>\n",
       "      <td>50.0</td>\n",
       "      <td>126.0</td>\n",
       "      <td>163.0</td>\n",
       "      <td>126.0</td>\n",
       "      <td>236.0</td>\n",
       "      <td>163.0</td>\n",
       "      <td>420.0</td>\n",
       "      <td>...</td>\n",
       "      <td>200.0</td>\n",
       "      <td>163.0</td>\n",
       "      <td>384.0</td>\n",
       "      <td>200.0</td>\n",
       "      <td>384.0</td>\n",
       "      <td>15.0</td>\n",
       "      <td>226.0</td>\n",
       "      <td>226.0</td>\n",
       "      <td>1</td>\n",
       "      <td>v310</td>\n",
       "    </tr>\n",
       "    <tr>\n",
       "      <th>2166382</th>\n",
       "      <td>261.0</td>\n",
       "      <td>121.0</td>\n",
       "      <td>236.0</td>\n",
       "      <td>85.0</td>\n",
       "      <td>126.0</td>\n",
       "      <td>89.0</td>\n",
       "      <td>163.0</td>\n",
       "      <td>163.0</td>\n",
       "      <td>89.0</td>\n",
       "      <td>16.0</td>\n",
       "      <td>...</td>\n",
       "      <td>89.0</td>\n",
       "      <td>236.0</td>\n",
       "      <td>52.0</td>\n",
       "      <td>89.0</td>\n",
       "      <td>89.0</td>\n",
       "      <td>297.0</td>\n",
       "      <td>-195.0</td>\n",
       "      <td>-90.0</td>\n",
       "      <td>1</td>\n",
       "      <td>v310</td>\n",
       "    </tr>\n",
       "  </tbody>\n",
       "</table>\n",
       "<p>2166383 rows × 21 columns</p>\n",
       "</div>"
      ],
      "text/plain": [
       "           Fp1    Fp2     F3     F4     C3     C4     P3     P4     O1     O2  \\\n",
       "0        261.0  402.0   16.0  261.0  126.0  384.0  126.0  236.0   52.0  236.0   \n",
       "1        121.0  191.0  -94.0   85.0   16.0  200.0  126.0   52.0  347.0  273.0   \n",
       "2        -55.0   85.0 -204.0   15.0  -57.0  200.0   52.0  126.0  236.0  200.0   \n",
       "3        191.0   85.0   52.0   50.0   89.0  236.0  163.0   89.0   89.0   89.0   \n",
       "4        -55.0 -125.0 -204.0 -160.0 -204.0   16.0 -241.0 -241.0   89.0   16.0   \n",
       "...        ...    ...    ...    ...    ...    ...    ...    ...    ...    ...   \n",
       "2166378   15.0   50.0   89.0   85.0   16.0   52.0  -20.0  -20.0   89.0   89.0   \n",
       "2166379  297.0  297.0  347.0  332.0  236.0  347.0  236.0  273.0  273.0  273.0   \n",
       "2166380  121.0  -19.0   52.0  -19.0  -94.0  -20.0  -20.0   16.0   16.0   16.0   \n",
       "2166381  121.0   15.0  200.0   50.0  126.0  163.0  126.0  236.0  163.0  420.0   \n",
       "2166382  261.0  121.0  236.0   85.0  126.0   89.0  163.0  163.0   89.0   16.0   \n",
       "\n",
       "         ...     F8     T7     T8     P7     P8     Fz     Cz     Pz  Class  \\\n",
       "0        ...   16.0  200.0  494.0  126.0  236.0  121.0  367.0  121.0      0   \n",
       "1        ...  -57.0  126.0  347.0   52.0   52.0   15.0  121.0  -19.0      0   \n",
       "2        ...  -94.0  126.0  420.0   52.0  126.0  -55.0  261.0   85.0      0   \n",
       "3        ...  -57.0  236.0  420.0  126.0  126.0   15.0   85.0  -55.0      0   \n",
       "4        ... -131.0   89.0  310.0  -57.0   52.0  -55.0   15.0 -336.0      0   \n",
       "...      ...    ...    ...    ...    ...    ...    ...    ...    ...    ...   \n",
       "2166378  ...  163.0  126.0  163.0   89.0  163.0   50.0  226.0  121.0      1   \n",
       "2166379  ...  347.0  163.0  347.0  236.0  347.0  332.0   85.0  156.0      1   \n",
       "2166380  ...   52.0  -20.0  -20.0   16.0   16.0  191.0 -195.0  -90.0      1   \n",
       "2166381  ...  200.0  163.0  384.0  200.0  384.0   15.0  226.0  226.0      1   \n",
       "2166382  ...   89.0  236.0   52.0   89.0   89.0  297.0 -195.0  -90.0      1   \n",
       "\n",
       "           ID  \n",
       "0        v10p  \n",
       "1        v10p  \n",
       "2        v10p  \n",
       "3        v10p  \n",
       "4        v10p  \n",
       "...       ...  \n",
       "2166378  v310  \n",
       "2166379  v310  \n",
       "2166380  v310  \n",
       "2166381  v310  \n",
       "2166382  v310  \n",
       "\n",
       "[2166383 rows x 21 columns]"
      ]
     },
     "execution_count": 4,
     "metadata": {},
     "output_type": "execute_result"
    }
   ],
   "source": [
    "df"
   ]
  },
  {
   "cell_type": "code",
   "execution_count": 7,
   "metadata": {
    "execution": {
     "iopub.execute_input": "2025-06-24T14:26:21.600087Z",
     "iopub.status.busy": "2025-06-24T14:26:21.599430Z",
     "iopub.status.idle": "2025-06-24T14:26:21.605640Z",
     "shell.execute_reply": "2025-06-24T14:26:21.604982Z",
     "shell.execute_reply.started": "2025-06-24T14:26:21.600060Z"
    }
   },
   "outputs": [],
   "source": [
    "import numpy as np\n",
    "import pandas as pd\n",
    "\n",
    "def sample_eegnet(df, window_size=128, stride=64):\n",
    "    eeg_channels = ['Fp1', 'Fp2', 'F3', 'F4', 'C3', 'C4',\n",
    "                    'P3', 'P4', 'O1', 'O2', 'F7', 'F8',\n",
    "                    'T7', 'T8', 'P7', 'P8', 'Fz', 'Cz', 'Pz']\n",
    "\n",
    "    X_list, y_list = [], []\n",
    "\n",
    "    for subject_id in df['ID'].unique():\n",
    "        subject_df = df[df['ID'] == subject_id]\n",
    "        label = subject_df['Class'].iloc[0]\n",
    "        signal = subject_df[eeg_channels].to_numpy().T  # shape: (channels, time)\n",
    "\n",
    "        total_length = signal.shape[1]\n",
    "        num_windows = (total_length - window_size) // stride + 1\n",
    "\n",
    "        for i in range(num_windows):\n",
    "            start = i * stride\n",
    "            end = start + window_size\n",
    "            if end <= total_length:\n",
    "                window = signal[:, start:end]  # (channels, window_size)\n",
    "                X_list.append(window)\n",
    "                y_list.append(label)\n",
    "\n",
    "    X = np.array(X_list)  # shape: (N, channels, window)\n",
    "    y = np.array(y_list)  # shape: (N,)\n",
    "    X = X[:, np.newaxis, :, :]  # EEGNet expects: (N, 1, channels, time)\n",
    "\n",
    "    return X, y\n",
    "\n"
   ]
  },
  {
   "cell_type": "code",
   "execution_count": 8,
   "metadata": {
    "execution": {
     "iopub.execute_input": "2025-06-24T14:26:22.211870Z",
     "iopub.status.busy": "2025-06-24T14:26:22.211280Z",
     "iopub.status.idle": "2025-06-24T14:26:40.185475Z",
     "shell.execute_reply": "2025-06-24T14:26:40.184865Z",
     "shell.execute_reply.started": "2025-06-24T14:26:22.211846Z"
    }
   },
   "outputs": [
    {
     "name": "stdout",
     "output_type": "stream",
     "text": [
      "X shape: (33676, 1, 19, 128)\n",
      "y shape: (33676,)\n"
     ]
    }
   ],
   "source": [
    "X, y = sample_eegnet(df, window_size=128, stride=64)\n",
    "print(\"X shape:\", X.shape)  # (N, 1, 19, 128)\n",
    "print(\"y shape:\", y.shape)\n"
   ]
  },
  {
   "cell_type": "code",
   "execution_count": 9,
   "metadata": {
    "execution": {
     "iopub.execute_input": "2025-06-24T14:26:40.186886Z",
     "iopub.status.busy": "2025-06-24T14:26:40.186627Z",
     "iopub.status.idle": "2025-06-24T14:26:40.195560Z",
     "shell.execute_reply": "2025-06-24T14:26:40.195022Z",
     "shell.execute_reply.started": "2025-06-24T14:26:40.186868Z"
    }
   },
   "outputs": [
    {
     "name": "stdout",
     "output_type": "stream",
     "text": [
      "Counter({0: 18773, 1: 14903})\n"
     ]
    }
   ],
   "source": [
    "from collections import Counter\n",
    "print(Counter(y))  # 예: {0: 5200, 1: 5034}\n"
   ]
  },
  {
   "cell_type": "code",
   "execution_count": 10,
   "metadata": {
    "execution": {
     "iopub.execute_input": "2025-06-24T14:26:40.196422Z",
     "iopub.status.busy": "2025-06-24T14:26:40.196224Z",
     "iopub.status.idle": "2025-06-24T14:26:46.851348Z",
     "shell.execute_reply": "2025-06-24T14:26:46.850815Z",
     "shell.execute_reply.started": "2025-06-24T14:26:40.196400Z"
    }
   },
   "outputs": [
    {
     "name": "stdout",
     "output_type": "stream",
     "text": [
      "Using device: cuda\n"
     ]
    }
   ],
   "source": [
    "import numpy as np\n",
    "import torch\n",
    "import torch.nn as nn\n",
    "import torch.nn.functional as F\n",
    "from torch.utils.data import DataLoader, TensorDataset\n",
    "from sklearn.model_selection import train_test_split\n",
    "from sklearn.metrics import accuracy_score, confusion_matrix, classification_report\n",
    "\n",
    "\n",
    "# EEGNet Model Definition\n",
    "class EEGNet(nn.Module):\n",
    "    def __init__(self):\n",
    "        super(EEGNet, self).__init__()\n",
    "\n",
    "        # Layer 1: Temporal Conv\n",
    "        self.conv1 = nn.Conv2d(1, 16, kernel_size=(1, 64), padding=(0, 32))\n",
    "        self.batchnorm1 = nn.BatchNorm2d(16)\n",
    "\n",
    "        # Layer 2: Depthwise Spatial Conv\n",
    "        self.conv2 = nn.Conv2d(16, 32, kernel_size=(19, 1), groups=16)\n",
    "        self.batchnorm2 = nn.BatchNorm2d(32)\n",
    "        self.pool2 = nn.AvgPool2d(kernel_size=(1, 4))\n",
    "\n",
    "        # Layer 3: Separable Conv\n",
    "        self.conv3 = nn.Sequential(\n",
    "            nn.Conv2d(32, 64, kernel_size=(1, 16), padding=(0, 8), bias=False),\n",
    "            nn.BatchNorm2d(64),\n",
    "            nn.ELU(),\n",
    "            nn.AvgPool2d(kernel_size=(1, 8)),\n",
    "            nn.Dropout(0.5)\n",
    "        )\n",
    "\n",
    "        # FC Layer (64×1×4 → 256)\n",
    "        self.classifier = nn.Sequential(\n",
    "            nn.Flatten(),\n",
    "            nn.Linear(256, 1),\n",
    "            nn.Sigmoid()\n",
    "        )\n",
    "\n",
    "    def forward(self, x):\n",
    "        x = F.elu(self.batchnorm1(self.conv1(x)))\n",
    "        x = F.elu(self.batchnorm2(self.conv2(x)))\n",
    "        x = self.pool2(x)\n",
    "        x = self.conv3(x)\n",
    "        x = self.classifier(x)\n",
    "        return x\n",
    "\n",
    "\n",
    "# Device setup\n",
    "device = torch.device(\"cuda\" if torch.cuda.is_available() else \"cpu\")\n",
    "print(\"Using device:\", device)\n",
    "\n",
    "\n",
    "# Load your data\n",
    "X_tensor = torch.tensor(X, dtype=torch.float32)\n",
    "y_tensor = torch.tensor(y, dtype=torch.float32).unsqueeze(1)  # shape (N, 1)\n",
    "\n",
    "# Split\n",
    "X_train, X_test, y_train, y_test = train_test_split(X_tensor, y_tensor, test_size=0.2, stratify=y, random_state=42)\n",
    "\n",
    "train_loader = DataLoader(TensorDataset(X_train, y_train), batch_size=64, shuffle=True)\n",
    "test_loader = DataLoader(TensorDataset(X_test, y_test), batch_size=64)\n",
    "\n",
    "\n",
    "# Training Setup\n",
    "net = EEGNet().to(device)\n",
    "criterion = nn.BCELoss()\n",
    "optimizer = torch.optim.Adam(net.parameters(), lr=1e-3)"
   ]
  },
  {
   "cell_type": "code",
   "execution_count": 11,
   "metadata": {
    "execution": {
     "iopub.execute_input": "2025-06-24T14:26:46.853581Z",
     "iopub.status.busy": "2025-06-24T14:26:46.852884Z",
     "iopub.status.idle": "2025-06-24T14:27:25.001482Z",
     "shell.execute_reply": "2025-06-24T14:27:25.000899Z",
     "shell.execute_reply.started": "2025-06-24T14:26:46.853555Z"
    }
   },
   "outputs": [
    {
     "name": "stderr",
     "output_type": "stream",
     "text": [
      "                                                                           \r"
     ]
    },
    {
     "name": "stdout",
     "output_type": "stream",
     "text": [
      "Epoch 1/15, Avg Loss: 0.2788\n"
     ]
    },
    {
     "name": "stderr",
     "output_type": "stream",
     "text": [
      "                                                                            \r"
     ]
    },
    {
     "name": "stdout",
     "output_type": "stream",
     "text": [
      "Epoch 2/15, Avg Loss: 0.0853\n"
     ]
    },
    {
     "name": "stderr",
     "output_type": "stream",
     "text": [
      "                                                                            \r"
     ]
    },
    {
     "name": "stdout",
     "output_type": "stream",
     "text": [
      "Epoch 3/15, Avg Loss: 0.0568\n"
     ]
    },
    {
     "name": "stderr",
     "output_type": "stream",
     "text": [
      "                                                                            \r"
     ]
    },
    {
     "name": "stdout",
     "output_type": "stream",
     "text": [
      "Epoch 4/15, Avg Loss: 0.0391\n"
     ]
    },
    {
     "name": "stderr",
     "output_type": "stream",
     "text": [
      "                                                                             \r"
     ]
    },
    {
     "name": "stdout",
     "output_type": "stream",
     "text": [
      "Epoch 5/15, Avg Loss: 0.0346\n"
     ]
    },
    {
     "name": "stderr",
     "output_type": "stream",
     "text": [
      "                                                                             \r"
     ]
    },
    {
     "name": "stdout",
     "output_type": "stream",
     "text": [
      "Epoch 6/15, Avg Loss: 0.0289\n"
     ]
    },
    {
     "name": "stderr",
     "output_type": "stream",
     "text": [
      "                                                                             \r"
     ]
    },
    {
     "name": "stdout",
     "output_type": "stream",
     "text": [
      "Epoch 7/15, Avg Loss: 0.0246\n"
     ]
    },
    {
     "name": "stderr",
     "output_type": "stream",
     "text": [
      "                                                                             \r"
     ]
    },
    {
     "name": "stdout",
     "output_type": "stream",
     "text": [
      "Epoch 8/15, Avg Loss: 0.0226\n"
     ]
    },
    {
     "name": "stderr",
     "output_type": "stream",
     "text": [
      "                                                                             \r"
     ]
    },
    {
     "name": "stdout",
     "output_type": "stream",
     "text": [
      "Epoch 9/15, Avg Loss: 0.0202\n"
     ]
    },
    {
     "name": "stderr",
     "output_type": "stream",
     "text": [
      "                                                                              \r"
     ]
    },
    {
     "name": "stdout",
     "output_type": "stream",
     "text": [
      "Epoch 10/15, Avg Loss: 0.0130\n"
     ]
    },
    {
     "name": "stderr",
     "output_type": "stream",
     "text": [
      "                                                                              \r"
     ]
    },
    {
     "name": "stdout",
     "output_type": "stream",
     "text": [
      "Epoch 11/15, Avg Loss: 0.0209\n"
     ]
    },
    {
     "name": "stderr",
     "output_type": "stream",
     "text": [
      "                                                                              \r"
     ]
    },
    {
     "name": "stdout",
     "output_type": "stream",
     "text": [
      "Epoch 12/15, Avg Loss: 0.0164\n"
     ]
    },
    {
     "name": "stderr",
     "output_type": "stream",
     "text": [
      "                                                                              \r"
     ]
    },
    {
     "name": "stdout",
     "output_type": "stream",
     "text": [
      "Epoch 13/15, Avg Loss: 0.0214\n"
     ]
    },
    {
     "name": "stderr",
     "output_type": "stream",
     "text": [
      "                                                                              \r"
     ]
    },
    {
     "name": "stdout",
     "output_type": "stream",
     "text": [
      "Epoch 14/15, Avg Loss: 0.0148\n"
     ]
    },
    {
     "name": "stderr",
     "output_type": "stream",
     "text": [
      "                                                                              "
     ]
    },
    {
     "name": "stdout",
     "output_type": "stream",
     "text": [
      "Epoch 15/15, Avg Loss: 0.0104\n"
     ]
    },
    {
     "name": "stderr",
     "output_type": "stream",
     "text": [
      "\r"
     ]
    }
   ],
   "source": [
    "from tqdm import tqdm\n",
    "\n",
    "epochs = 15\n",
    "for epoch in range(epochs):\n",
    "    net.train()\n",
    "    running_loss = 0.0\n",
    "    loop = tqdm(train_loader, desc=f\"Epoch {epoch+1}/{epochs}\", leave=False)\n",
    "    \n",
    "    for xb, yb in loop:\n",
    "        xb, yb = xb.to(device), yb.to(device)\n",
    "        optimizer.zero_grad()\n",
    "        output = net(xb)\n",
    "        loss = criterion(output, yb)\n",
    "        loss.backward()\n",
    "        optimizer.step()\n",
    "        running_loss += loss.item()\n",
    "        \n",
    "        loop.set_postfix(loss=loss.item())\n",
    "\n",
    "    avg_loss = running_loss / len(train_loader)\n",
    "    print(f\"Epoch {epoch+1}/{epochs}, Avg Loss: {avg_loss:.4f}\")\n"
   ]
  },
  {
   "cell_type": "code",
   "execution_count": 13,
   "metadata": {
    "execution": {
     "iopub.execute_input": "2025-06-24T14:34:15.861087Z",
     "iopub.status.busy": "2025-06-24T14:34:15.860793Z",
     "iopub.status.idle": "2025-06-24T14:34:16.559102Z",
     "shell.execute_reply": "2025-06-24T14:34:16.558434Z",
     "shell.execute_reply.started": "2025-06-24T14:34:15.861068Z"
    }
   },
   "outputs": [
    {
     "name": "stdout",
     "output_type": "stream",
     "text": [
      "\n",
      "Evaluation Results:\n",
      "Accuracy: 0.9985154394299287\n",
      "Confusion Matrix:\n",
      " [[3754    1]\n",
      " [   9 2972]]\n",
      "Classification Report:\n",
      "               precision    recall  f1-score   support\n",
      "\n",
      "         0.0     0.9976    0.9997    0.9987      3755\n",
      "         1.0     0.9997    0.9970    0.9983      2981\n",
      "\n",
      "    accuracy                         0.9985      6736\n",
      "   macro avg     0.9986    0.9984    0.9985      6736\n",
      "weighted avg     0.9985    0.9985    0.9985      6736\n",
      "\n"
     ]
    },
    {
     "data": {
      "image/png": "[encoded data removed]",
      "text/plain": [
       "<Figure size 640x480 with 1 Axes>"
      ]
     },
     "metadata": {},
     "output_type": "display_data"
    },
    {
     "data": {
      "image/png": "[encoded data removed]",
      "text/plain": [
       "<Figure size 640x480 with 2 Axes>"
      ]
     },
     "metadata": {},
     "output_type": "display_data"
    }
   ],
   "source": [
    "from sklearn.metrics import (\n",
    "    accuracy_score, confusion_matrix, classification_report,\n",
    "    roc_curve, auc, ConfusionMatrixDisplay\n",
    ")\n",
    "\n",
    "# 평가 모드로 전환\n",
    "net.eval()\n",
    "y_preds, y_trues = [], []\n",
    "\n",
    "with torch.no_grad():\n",
    "    for xb, yb in test_loader:\n",
    "        xb = xb.to(device)\n",
    "        output = net(xb).cpu()\n",
    "        y_preds.append(output)\n",
    "        y_trues.append(yb)\n",
    "\n",
    "# 결과 정리\n",
    "y_pred = torch.cat(y_preds).numpy()\n",
    "y_true = torch.cat(y_trues).numpy()\n",
    "y_pred_bin = (y_pred > 0.5).astype(int)\n",
    "\n",
    "# 결과 출력\n",
    "print(\"\\nEvaluation Results:\")\n",
    "print(\"Accuracy:\", accuracy_score(y_true, y_pred_bin))\n",
    "print(\"Confusion Matrix:\\n\", confusion_matrix(y_true, y_pred_bin))\n",
    "print(\"Classification Report:\\n\", classification_report(y_true, y_pred_bin, digits=4))\n",
    "\n",
    "# ROC Curve 그리기\n",
    "fpr, tpr, thresholds = roc_curve(y_true, y_pred)\n",
    "roc_auc = auc(fpr, tpr)\n",
    "\n",
    "plt.figure()\n",
    "plt.plot(fpr, tpr, label=f\"ROC Curve (AUC = {roc_auc:.4f})\")\n",
    "plt.plot([0, 1], [0, 1], \"k--\", label=\"Random Guess\")\n",
    "plt.xlabel(\"False Positive Rate\")\n",
    "plt.ylabel(\"True Positive Rate\")\n",
    "plt.title(\"ROC Curve\")\n",
    "plt.legend(loc=\"lower right\")\n",
    "plt.grid(True)\n",
    "plt.show()\n",
    "\n",
    "# Confusion Matrix 시각화\n",
    "cm = confusion_matrix(y_true, y_pred_bin)\n",
    "disp = ConfusionMatrixDisplay(confusion_matrix=cm)\n",
    "disp.plot(cmap=\"Blues\", values_format=\"d\")\n",
    "plt.title(\"Confusion Matrix\")\n",
    "plt.show()\n"
   ]
  },
  {
   "cell_type": "code",
   "execution_count": null,
   "metadata": {},
   "outputs": [],
   "source": []
  }
 ],
 "metadata": {
  "kaggle": {
   "accelerator": "gpu",
   "dataSources": [
    {
     "datasetId": 6517214,
     "sourceId": 10531359,
     "sourceType": "datasetVersion"
    }
   ],
   "dockerImageVersionId": 31012,
   "isGpuEnabled": true,
   "isInternetEnabled": true,
   "language": "python",
   "sourceType": "notebook"
  },
  "kernelspec": {
   "display_name": "torch",
   "language": "python",
   "name": "torch"
  },
  "language_info": {
   "codemirror_mode": {
    "name": "ipython",
    "version": 3
   },
   "file_extension": ".py",
   "mimetype": "text/x-python",
   "name": "python",
   "nbconvert_exporter": "python",
   "pygments_lexer": "ipython3",
   "version": "3.10.16"
  }
 },
 "nbformat": 4,
 "nbformat_minor": 4
}
